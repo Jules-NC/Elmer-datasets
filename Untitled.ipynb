{
 "cells": [
  {
   "cell_type": "markdown",
   "metadata": {},
   "source": [
    "# Elmer-1 test 01\n",
    "_Reconnaissance de digits avec keras grâce au MLP_\n",
    "___\n",
    "\n",
    "Exemple d'utilisation de keras pour (très simplement) créer un réseau de neurones de type MLP qui marche du tonerre.\n",
    "\n",
    "Source: https://machinelearningmastery.com/handwritten-digit-recognition-using-convolutional-neural-networks-python-keras/ pasque j'ai pas que ca à faire que d'écrire tt ca."
   ]
  },
  {
   "cell_type": "markdown",
   "metadata": {},
   "source": [
    "## Visualisation de quelques données de MNIST"
   ]
  },
  {
   "cell_type": "code",
   "execution_count": 125,
   "metadata": {},
   "outputs": [
    {
     "data": {
      "image/png": "[encoded data removed]",
      "text/plain": [
       "<matplotlib.figure.Figure at 0x769c69ff98>"
      ]
     },
     "metadata": {},
     "output_type": "display_data"
    }
   ],
   "source": [
    "from keras.datasets import mnist\n",
    "import matplotlib.pyplot as plt\n",
    "# load (downloaded if needed) the MNIST dataset\n",
    "(X_train, y_train), (X_test, y_test) = mnist.load_data()\n",
    "# plot 4 images as gray scale\n",
    "plt.subplot(221)\n",
    "plt.imshow(X_train[10], cmap=plt.get_cmap('gray'))\n",
    "plt.subplot(222)\n",
    "plt.imshow(X_train[42], cmap=plt.get_cmap('magma'))\n",
    "plt.subplot(223)\n",
    "plt.imshow(X_train[2354], cmap=plt.get_cmap('Wistia'))\n",
    "plt.subplot(224)\n",
    "plt.imshow(X_train[666], cmap=plt.get_cmap('jet'))\n",
    "# show the plot\n",
    "plt.show()"
   ]
  },
  {
   "cell_type": "code",
   "execution_count": 23,
   "metadata": {
    "collapsed": true
   },
   "outputs": [],
   "source": [
    "import numpy\n",
    "from keras.datasets import mnist\n",
    "from keras.models import Sequential\n",
    "from keras.layers import Dense\n",
    "from keras.layers import Dropout\n",
    "from keras.utils import np_utils"
   ]
  },
  {
   "cell_type": "code",
   "execution_count": 15,
   "metadata": {},
   "outputs": [],
   "source": [
    "# fix random seed for reproducibility\n",
    "seed = 7\n",
    "numpy.random.seed(seed)"
   ]
  },
  {
   "cell_type": "code",
   "execution_count": 24,
   "metadata": {
    "collapsed": true
   },
   "outputs": [],
   "source": [
    "# load data\n",
    "(X_train, y_train), (X_test, y_test) = mnist.load_data()"
   ]
  },
  {
   "cell_type": "code",
   "execution_count": 25,
   "metadata": {
    "collapsed": true
   },
   "outputs": [],
   "source": [
    "# flatten 28*28 images to a 784 vector for each image\n",
    "num_pixels = X_train.shape[1] * X_train.shape[2]\n",
    "X_train = X_train.reshape(X_train.shape[0], num_pixels).astype('float32')\n",
    "X_test = X_test.reshape(X_test.shape[0], num_pixels).astype('float32')"
   ]
  },
  {
   "cell_type": "code",
   "execution_count": 19,
   "metadata": {},
   "outputs": [],
   "source": [
    "#normalize inputs from 0-255 to 0-1\n",
    "X_train = X_train / 255\n",
    "X_test = X_test / 255"
   ]
  },
  {
   "cell_type": "code",
   "execution_count": 20,
   "metadata": {
    "collapsed": true
   },
   "outputs": [],
   "source": [
    "#one hot encode outputs\n",
    "y_train = np_utils.to_categorical(y_train)\n",
    "y_test = np_utils.to_categorical(y_test)\n",
    "num_classes = y_test.shape[1]"
   ]
  },
  {
   "cell_type": "code",
   "execution_count": 30,
   "metadata": {},
   "outputs": [],
   "source": [
    "#define baseline model\n",
    "def baseline_model():\n",
    "\t# create model\n",
    "\tmodel = Sequential()\n",
    "\tmodel.add(Dense(num_pixels, input_dim=num_pixels, kernel_initializer='normal', activation='relu'))\n",
    "\tmodel.add(Dense(num_classes, kernel_initializer='normal', activation='softmax'))\n",
    "\t# Compile model\n",
    "\tmodel.compile(loss='categorical_crossentropy', optimizer='adam', metrics=['accuracy'])\n",
    "\treturn model"
   ]
  },
  {
   "cell_type": "code",
   "execution_count": 22,
   "metadata": {},
   "outputs": [
    {
     "name": "stdout",
     "output_type": "stream",
     "text": [
      "Train on 60000 samples, validate on 10000 samples\n",
      "Epoch 1/10\n",
      "6s - loss: 0.2781 - acc: 0.9212 - val_loss: 0.1413 - val_acc: 0.9575\n",
      "Epoch 2/10\n",
      "6s - loss: 0.1116 - acc: 0.9677 - val_loss: 0.0919 - val_acc: 0.9704\n",
      "Epoch 3/10\n",
      "6s - loss: 0.0718 - acc: 0.9796 - val_loss: 0.0787 - val_acc: 0.9771\n",
      "Epoch 4/10\n",
      "6s - loss: 0.0503 - acc: 0.9856 - val_loss: 0.0748 - val_acc: 0.9765\n",
      "Epoch 5/10\n",
      "7s - loss: 0.0374 - acc: 0.9893 - val_loss: 0.0674 - val_acc: 0.9790\n",
      "Epoch 6/10\n",
      "6s - loss: 0.0269 - acc: 0.9927 - val_loss: 0.0621 - val_acc: 0.9807\n",
      "Epoch 7/10\n",
      "6s - loss: 0.0208 - acc: 0.9947 - val_loss: 0.0615 - val_acc: 0.9803\n",
      "Epoch 8/10\n",
      "7s - loss: 0.0140 - acc: 0.9970 - val_loss: 0.0630 - val_acc: 0.9802\n",
      "Epoch 9/10\n",
      "6s - loss: 0.0111 - acc: 0.9977 - val_loss: 0.0590 - val_acc: 0.9812\n",
      "Epoch 10/10\n",
      "6s - loss: 0.0082 - acc: 0.9984 - val_loss: 0.0572 - val_acc: 0.9820\n",
      "Baseline Error: 1.80%\n"
     ]
    }
   ],
   "source": [
    "# build the model\n",
    "model = baseline_model()\n",
    "# Fit the model\n",
    "model.fit(X_train, y_train, validation_data=(X_test, y_test), epochs=10, batch_size=200, verbose=2)\n",
    "# Final evaluation of the model\n",
    "scores = model.evaluate(X_test, y_test, verbose=0)\n",
    "print(\"Baseline Error: %.2f%%\" % (100-scores[1]*100))"
   ]
  },
  {
   "cell_type": "markdown",
   "metadata": {},
   "source": [
    "## Vérification visuelle de la validité de la solution\n"
   ]
  },
  {
   "cell_type": "code",
   "execution_count": 149,
   "metadata": {
    "scrolled": false
   },
   "outputs": [
    {
     "name": "stdout",
     "output_type": "stream",
     "text": [
      "[==========[ESSAI:0/3]==========]\n",
      "Réponse:  7\n",
      "Vérité:\n"
     ]
    },
    {
     "data": {
      "image/png": "[encoded data removed]",
      "text/plain": [
       "<matplotlib.figure.Figure at 0x769a214518>"
      ]
     },
     "metadata": {},
     "output_type": "display_data"
    },
    {
     "name": "stdout",
     "output_type": "stream",
     "text": [
      "[==========[ESSAI:1/3]==========]\n",
      "Réponse:  3\n",
      "Vérité:\n"
     ]
    },
    {
     "data": {
      "image/png": "[encoded data removed]",
      "text/plain": [
       "<matplotlib.figure.Figure at 0x769a2b31d0>"
      ]
     },
     "metadata": {},
     "output_type": "display_data"
    },
    {
     "name": "stdout",
     "output_type": "stream",
     "text": [
      "[==========[ESSAI:2/3]==========]\n",
      "Réponse:  4\n",
      "Vérité:\n"
     ]
    },
    {
     "data": {
      "image/png": "[encoded data removed]",
      "text/plain": [
       "<matplotlib.figure.Figure at 0x7699fc1908>"
      ]
     },
     "metadata": {},
     "output_type": "display_data"
    }
   ],
   "source": [
    "N = 3\n",
    "for i in range(N):\n",
    "    print(\"[==========[ESSAI:\", i, \"/\", N, \"]==========]\", sep=\"\")\n",
    "    r = np.random.randint(1000)\n",
    "    a = np.array([X_train[r].flatten()])\n",
    "    \n",
    "    print(\"Réponse: \", model.predict_classes(a, verbose=0)[0])\n",
    "    print(\"Vérité:\")\n",
    "    plt.subplot(111)\n",
    "    plt.imshow(X_train[r], cmap=plt.get_cmap('gray'))\n",
    "    plt.show()\n"
   ]
  }
 ],
 "metadata": {
  "kernelspec": {
   "display_name": "Python 3",
   "language": "python",
   "name": "python3"
  },
  "language_info": {
   "codemirror_mode": {
    "name": "ipython",
    "version": 3
   },
   "file_extension": ".py",
   "mimetype": "text/x-python",
   "name": "python",
   "nbconvert_exporter": "python",
   "pygments_lexer": "ipython3",
   "version": "3.6.1"
  }
 },
 "nbformat": 4,
 "nbformat_minor": 2
}
