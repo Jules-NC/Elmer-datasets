{
 "cells": [
  {
   "cell_type": "code",
   "execution_count": 2,
   "metadata": {},
   "outputs": [],
   "source": [
    "import sys\n",
    "class ScientificBar:\n",
    "  def __init__(self, max=100.):\n",
    "    self.max = float(max)\n",
    "  def update(self, n):\n",
    "    n = n/self.max*30\n",
    "    sys.stdout.write('\\r')\n",
    "    sys.stdout.write(\"[%-31s] %d%%\" % ('='*int(n)+'>', n*10/3))\n",
    "    if n*10/3 == 100: print()"
   ]
  },
  {
   "cell_type": "code",
   "execution_count": 3,
   "metadata": {},
   "outputs": [
    {
     "name": "stdout",
     "output_type": "stream",
     "text": [
      "[==============================>] 100%\n",
      "[==============================>] 100%"
     ]
    }
   ],
   "source": [
    "import os\n",
    "from PIL import Image\n",
    "bar = ScientificBar(13229)\n",
    "basewidth = 256\n",
    "for i, filename in enumerate(os.listdir('lfw256')):\n",
    "    bar.update(i)\n",
    "    img = Image.open('lfw256/' + filename)\n",
    "    wpercent = (basewidth/float(img.size[0]))\n",
    "    hsize = int((float(img.size[1])*float(wpercent)))\n",
    "    img = img.resize((basewidth,hsize), Image.ANTIALIAS)\n",
    "    img.save('lfw256/' + filename)"
   ]
  }
 ],
 "metadata": {
  "kernelspec": {
   "display_name": "Python 3",
   "language": "python",
   "name": "python3"
  },
  "language_info": {
   "codemirror_mode": {
    "name": "ipython",
    "version": 3
   },
   "file_extension": ".py",
   "mimetype": "text/x-python",
   "name": "python",
   "nbconvert_exporter": "python",
   "pygments_lexer": "ipython3",
   "version": "3.6.4"
  }
 },
 "nbformat": 4,
 "nbformat_minor": 2
}
